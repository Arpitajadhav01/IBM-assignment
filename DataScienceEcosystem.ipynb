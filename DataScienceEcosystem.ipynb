{
 "cells": [
  {
   "cell_type": "markdown",
   "id": "7e8b6566",
   "metadata": {},
   "source": [
    "# Data Science Tools and Ecosystem"
   ]
  },
  {
   "cell_type": "markdown",
   "id": "8d88b8b4",
   "metadata": {},
   "source": [
    "In this notebook, Data Science Tools and Ecosystem are summerised."
   ]
  },
  {
   "cell_type": "markdown",
   "id": "0de524c2",
   "metadata": {},
   "source": [
    "Some of the popular languages for data science are:"
   ]
  },
  {
   "cell_type": "markdown",
   "id": "9ce96fee",
   "metadata": {},
   "source": [
    "1. Python\n",
    "2. SQL\n",
    "3. R\n",
    "4. JavaScript\n"
   ]
  },
  {
   "cell_type": "markdown",
   "id": "a1e6d01c",
   "metadata": {},
   "source": [
    "Some of the commonly used libraries used by Data Scientists includes:"
   ]
  },
  {
   "cell_type": "markdown",
   "id": "cf04be37",
   "metadata": {},
   "source": [
    "1. Numpy\n",
    "2. Pandas\n",
    "3. Matplotlib\n",
    "4. Seaborn\n",
    "5. Beautifulsoup\n",
    "6. Flask"
   ]
  },
  {
   "cell_type": "markdown",
   "id": "773a1dd7",
   "metadata": {},
   "source": [
    "Data Science Tools"
   ]
  },
  {
   "cell_type": "markdown",
   "id": "063f7a1e",
   "metadata": {},
   "source": [
    "| Data Science Tools |\n",
    "| --- |\n",
    "| a |\n",
    "| b |\n",
    "| c |\n"
   ]
  },
  {
   "cell_type": "markdown",
   "id": "c36d5bc6",
   "metadata": {},
   "source": [
    "### Below are the few examples of evaluating arithmetic expression in python."
   ]
  },
  {
   "cell_type": "code",
   "execution_count": 10,
   "id": "c322dcff",
   "metadata": {},
   "outputs": [],
   "source": [
    "#This is simple arithmetic expression to multiply then add integers."
   ]
  },
  {
   "cell_type": "code",
   "execution_count": 11,
   "id": "f6eefaec",
   "metadata": {},
   "outputs": [
    {
     "data": {
      "text/plain": [
       "17"
      ]
     },
     "execution_count": 11,
     "metadata": {},
     "output_type": "execute_result"
    }
   ],
   "source": [
    "(3*4)+5"
   ]
  },
  {
   "cell_type": "code",
   "execution_count": 13,
   "id": "2e38afd7",
   "metadata": {},
   "outputs": [],
   "source": [
    "#This will convert 200 minutes in hours by dividing by 60"
   ]
  },
  {
   "cell_type": "code",
   "execution_count": 14,
   "id": "04753a10",
   "metadata": {},
   "outputs": [
    {
     "data": {
      "text/plain": [
       "3.3333333333333335"
      ]
     },
     "execution_count": 14,
     "metadata": {},
     "output_type": "execute_result"
    }
   ],
   "source": [
    "200/60"
   ]
  },
  {
   "cell_type": "markdown",
   "id": "70e9ec5e",
   "metadata": {},
   "source": [
    "__Objectives:__\n"
   ]
  },
  {
   "cell_type": "markdown",
   "id": "0af80f03",
   "metadata": {},
   "source": [
    "* Python\n",
    "* SQL\n",
    "* R\n"
   ]
  },
  {
   "cell_type": "markdown",
   "id": "ccac086b",
   "metadata": {},
   "source": [
    "## Author:\n",
    "Arpita"
   ]
  }
 ],
 "metadata": {
  "kernelspec": {
   "display_name": "Python 3 (ipykernel)",
   "language": "python",
   "name": "python3"
  },
  "language_info": {
   "codemirror_mode": {
    "name": "ipython",
    "version": 3
   },
   "file_extension": ".py",
   "mimetype": "text/x-python",
   "name": "python",
   "nbconvert_exporter": "python",
   "pygments_lexer": "ipython3",
   "version": "3.10.9"
  }
 },
 "nbformat": 4,
 "nbformat_minor": 5
}
